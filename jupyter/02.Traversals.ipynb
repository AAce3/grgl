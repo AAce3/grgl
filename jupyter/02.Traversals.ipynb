{
 "cells": [
  {
   "cell_type": "markdown",
   "id": "d1d95488-794f-4e91-8520-89d950c5a6c1",
   "metadata": {},
   "source": [
    "# Graph Traversals\n",
    "\n",
    "This notebook assumes you have `simple_example.grg`, which can be constructed by running the `01.Intro.ipynb` notebook.\n",
    "\n",
    "The goal is to demonstrate the different between the different graph traversals."
   ]
  },
  {
   "cell_type": "code",
   "execution_count": null,
   "id": "9810a8a1-9092-4460-b58f-f7f686b44ecf",
   "metadata": {},
   "outputs": [],
   "source": [
    "from pygrgl import GRG, load_immutable_grg, get_dfs_order, get_bfs_order, get_topo_order, TraversalDirection\n",
    "from pygrgl.display import grg_to_cyto\n",
    "from IPython.display import display, SVG\n",
    "\n",
    "GRG_FILENAME = \"simple_example.grg\""
   ]
  },
  {
   "cell_type": "markdown",
   "id": "76185d79-bff2-4313-952b-185db8bf6f65",
   "metadata": {},
   "source": [
    "Our graph is shown below. Lets consider two nodes in particular to demonstrate the traversal APIs: `nodeId=10` and `nodeId=3`."
   ]
  },
  {
   "cell_type": "code",
   "execution_count": null,
   "id": "8798bb14-873c-4c32-9afb-8e157fa3c5be",
   "metadata": {},
   "outputs": [],
   "source": [
    "g = load_immutable_grg(GRG_FILENAME)\n",
    "display(grg_to_cyto(g, show_mutations=False))"
   ]
  },
  {
   "cell_type": "markdown",
   "id": "b1ce42c9-495a-419f-a437-3ceb71b41691",
   "metadata": {},
   "source": [
    "# Difference between DFS and Topological\n",
    "\n",
    "First the case where the depth-first search (DFS) and topological order are the same. Let's do a traversal that starts at nodes `0, 3` and traverses upward. We expect the following nodes to be encountered: `0, 3, 8, 9, 10`. The topological order ensures that we _must_ encountered node `9` before we encounter node `10` -- even though if we started from node `0` and naively searched upward we might reach node `10` before `9`.\n",
    "\n",
    "First we do the topological order, which is pretty intuitive:"
   ]
  },
  {
   "cell_type": "code",
   "execution_count": null,
   "id": "a623743e-48a3-4485-93e3-8559a4390802",
   "metadata": {},
   "outputs": [],
   "source": [
    "list(get_topo_order(g, TraversalDirection.UP, [0, 3]))"
   ]
  },
  {
   "cell_type": "markdown",
   "id": "e1518940-eba5-4e59-b3a7-f20013972716",
   "metadata": {},
   "source": [
    "Next, in order to get the \"equivalent\" DFS order, we have to start from the _roots_ and search down. This is because the DFS imposes a similar order via a LIFO (stack). Another way to put this: if you do a DFS over the whole graph, and save the order that nodes are visited in for the second visit, this is the same order that the topological order provides. In fact this is how `get_topo_order` is implemented, it numbers the nodes via DFS and then uses a heap to allow traversing a subset of those nodes."
   ]
  },
  {
   "cell_type": "code",
   "execution_count": null,
   "id": "05131cae-e56c-4b77-b740-2e6b134e9296",
   "metadata": {},
   "outputs": [],
   "source": [
    "list(get_dfs_order(g, TraversalDirection.DOWN, [10, 8]))"
   ]
  },
  {
   "cell_type": "markdown",
   "id": "63a266da-70fb-4146-b020-f553270fc49d",
   "metadata": {},
   "source": [
    "Notice how we visited `[0, 3, 8, 9, 10]` in the same order for DFS and topological, but that the DFS visited more nodes. This is because we had to provide the \"parent\" seeds and visit everything beneath them, whereas with the topological order we provided the \"child\" seeds and visited only nodes reachable upwards."
   ]
  },
  {
   "cell_type": "markdown",
   "id": "2385a803-548a-43c0-ae51-bab81b5e56db",
   "metadata": {},
   "source": [
    "### Equivalent DFS and Topological\n",
    "\n",
    "Now we demonstrate the topological property is maintained for both."
   ]
  },
  {
   "cell_type": "code",
   "execution_count": null,
   "id": "417d7320-8345-4d69-8b72-2c9798798657",
   "metadata": {},
   "outputs": [],
   "source": [
    "visited = [False] * g.num_nodes\n",
    "topo_nodes = list(get_topo_order(g, TraversalDirection.UP, g.get_sample_nodes()))\n",
    "for node_id in topo_nodes:\n",
    "    for child_id in g.get_down_edges(node_id):\n",
    "        assert visited[child_id]\n",
    "    visited[node_id] = True\n",
    "print(f\"Topoological property holds for {topo_nodes}\")"
   ]
  },
  {
   "cell_type": "code",
   "execution_count": null,
   "id": "32537164-c4d3-4292-85ef-6dd22d52caaa",
   "metadata": {},
   "outputs": [],
   "source": [
    "visited = [False] * g.num_nodes\n",
    "dfs_nodes = list(get_dfs_order(g, TraversalDirection.DOWN, g.get_root_nodes()))\n",
    "for node_id in dfs_nodes:\n",
    "    for child_id in g.get_down_edges(node_id):\n",
    "        assert visited[child_id]\n",
    "    visited[node_id] = True\n",
    "print(f\"Topoological property holds for {dfs_nodes}\")"
   ]
  },
  {
   "cell_type": "markdown",
   "id": "9a37abb3-3efe-4134-beb0-8fe73d71d328",
   "metadata": {},
   "source": [
    "You'll notice that the topological ordering of all the nodes is exactly the same and `range(0, g.num_nodes)`. This is by design, as the GRG is renumbered (when written to disk) specifically to maintain this property."
   ]
  },
  {
   "cell_type": "markdown",
   "id": "13e06534-b3c4-4088-a16d-555589ffa591",
   "metadata": {},
   "source": [
    "## Breadth-first\n",
    "\n",
    "The breadth-first search (BFS) enumerates the nodes such that siblings are iterated prior to descendants. Below we compare a `forward_only` DFS with a BFS, both starting at node `10` and traversing downwards. A \"regular\" DFS visits nodes in a post-order fashion: a node is only visited after all of its children have (recursively) been visited. A `forward_only` DFS visits nodes in a pre-order fashion: a node is visited prior to any of its children. This is a better comparison against a BFS, since they are both in a sense \"pre-order\"."
   ]
  },
  {
   "cell_type": "markdown",
   "id": "72c072e3-408f-4136-9986-3681ddf6c6e4",
   "metadata": {},
   "source": [
    "### "
   ]
  },
  {
   "cell_type": "code",
   "execution_count": null,
   "id": "3fa0fc5e-435c-4ca6-a24a-b0a610b241a2",
   "metadata": {},
   "outputs": [],
   "source": [
    "list(get_dfs_order(g, TraversalDirection.DOWN, [10], forward_only=True))"
   ]
  },
  {
   "cell_type": "code",
   "execution_count": null,
   "id": "9adcd3b8-56e6-4b8e-9bde-5a309bf81973",
   "metadata": {},
   "outputs": [],
   "source": [
    "list(get_bfs_order(g, TraversalDirection.DOWN, [10]))"
   ]
  },
  {
   "cell_type": "markdown",
   "id": "7b14c854-20ac-4172-b43f-dc1c60cdb878",
   "metadata": {},
   "source": [
    "Notice that the BFS order visits all of `10`s children prior to visited its grand-children. The DFS on the other hand does not have this property."
   ]
  },
  {
   "cell_type": "code",
   "execution_count": null,
   "id": "c2e782bf-e159-4e1d-b525-4ef216abf16b",
   "metadata": {},
   "outputs": [],
   "source": []
  }
 ],
 "metadata": {
  "kernelspec": {
   "display_name": "Python 3 (ipykernel)",
   "language": "python",
   "name": "python3"
  },
  "language_info": {
   "codemirror_mode": {
    "name": "ipython",
    "version": 3
   },
   "file_extension": ".py",
   "mimetype": "text/x-python",
   "name": "python",
   "nbconvert_exporter": "python",
   "pygments_lexer": "ipython3",
   "version": "3.10.12"
  }
 },
 "nbformat": 4,
 "nbformat_minor": 5
}
