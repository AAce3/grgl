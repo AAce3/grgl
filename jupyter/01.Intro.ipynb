{
 "cells": [
  {
   "cell_type": "markdown",
   "id": "d1d95488-794f-4e91-8520-89d950c5a6c1",
   "metadata": {},
   "source": [
    "# GRGL Library Introduction\n",
    "\n",
    "GRGL is a library for constructing and traversing Genotype Representation Graphs (GRGs). This notebook gives a brief introduction to the APIs and use-cases for GRGL."
   ]
  },
  {
   "cell_type": "code",
   "execution_count": null,
   "id": "9810a8a1-9092-4460-b58f-f7f686b44ecf",
   "metadata": {},
   "outputs": [],
   "source": [
    "from pygrgl import GRG, grg_from_trees\n",
    "from pygrgl.display import grg_to_cyto\n",
    "import tskit\n",
    "import io\n",
    "from IPython.display import display, SVG"
   ]
  },
  {
   "cell_type": "markdown",
   "id": "a961612c-5667-43e3-a05d-0f6f4b0fe0d2",
   "metadata": {},
   "source": [
    "GRGs can be constructed in one of three ways:\n",
    "1. By converting a [tskit tree sequence](https://tskit.dev/tutorials/what_is.html#sec-what-is) to a GRG. This is done by loading a .trees file from disk (converting an in-memory tree-seq is not currently possible). This is typically a fast operation; it may take only a few minutes even for very large tree sequences.\n",
    "2. By inferring a GRG from a raw dataset. This can be done from a [VCF file]() or an [IGD file](). We recommend converting VCF to IGD first if the dataset is large, as this saves significant time. Inferring a GRG can use parallel threads and uses a fair amount of memory.\n",
    "3. By constructing one from a set of edge lists, and then attaching mutations to a subset of the nodes.\n",
    "\n",
    "This notebook creates a GRG from a tree-sequence, as that is the simplest way to start."
   ]
  },
  {
   "cell_type": "markdown",
   "id": "b1ce42c9-495a-419f-a437-3ceb71b41691",
   "metadata": {},
   "source": [
    "### Make a simple tree sequence\n",
    "\n",
    "Just to illustrate the GRG construction."
   ]
  },
  {
   "cell_type": "code",
   "execution_count": null,
   "id": "a623743e-48a3-4485-93e3-8559a4390802",
   "metadata": {},
   "outputs": [],
   "source": [
    "nodes = \"\"\"\\\n",
    "is_sample   individual   time\n",
    "1           -1           0.0\n",
    "1           -1           0.0\n",
    "1           -1           0.0\n",
    "1           -1           0.0\n",
    "1           -1           0.0\n",
    "1           -1           0.0\n",
    "1           -1           0.0\n",
    "1           -1           0.0\n",
    "0           -1           1.0\n",
    "0           -1           1.0\n",
    "0           -1           1.0\n",
    "0           -1           1.0\n",
    "0           -1           2.0\n",
    "0           -1           2.0\n",
    "0           -1           3.0\n",
    "\"\"\"\n",
    "edges = \"\"\"\\\n",
    "left   right   parent  child\n",
    "0.0    10.0    8       0\n",
    "0.0    10.0    8       1\n",
    "0.0    10.0    9       2\n",
    "0.0    10.0    9       3\n",
    "0.0    10.0    10      4\n",
    "0.0    10.0    10      5\n",
    "0.0    10.0    11      6\n",
    "0.0     5.0    11      7\n",
    "5.0    10.0    8       7\n",
    "0.0    10.0    12      8\n",
    "0.0    10.0    12      9\n",
    "0.0    10.0    13      10\n",
    "0.0    10.0    13      11\n",
    "0.0    10.0    14      13\n",
    "0.0    10.0    14      12\n",
    "\"\"\"\n",
    "sites = \"\"\"\\\n",
    "position      ancestral_state\n",
    "1.0           A\n",
    "2.0           A\n",
    "4.0           A\n",
    "8.0           A\n",
    "\"\"\"\n",
    "mutations = \"\"\"\\\n",
    "site   node    derived_state    time    parent\n",
    "1      12      G                2.5     -1\n",
    "3      8       G                1.5     -1\n",
    "1      13      C                2.5     -1\n",
    "0      13      T                2.5     -1\n",
    "0      9       G                1.5     -1\n",
    "\"\"\"\n",
    "\n",
    "ts = tskit.load_text(\n",
    "    nodes=io.StringIO(nodes),\n",
    "    edges=io.StringIO(edges),\n",
    "    sites=io.StringIO(sites),\n",
    "    mutations=io.StringIO(mutations),\n",
    "    strict=False\n",
    ")\n",
    "TREE_FILENAME = \"simple_example.trees\"\n",
    "ts.dump(TREE_FILENAME)\n",
    "display(SVG(ts.draw_svg()))"
   ]
  },
  {
   "cell_type": "markdown",
   "id": "914509ec-6a2b-4b9b-b9c6-94d4ba5328f5",
   "metadata": {},
   "source": [
    "### Create the GRG from tree-seq\n",
    "\n",
    "The GRG corresponding to the above tree-sequence contains a node for each of the 5 mutations, and a node for each of the 8 samples. During construction, the GRG makes use of all of the nodes from the original ARG (tree-sequence representation), so you'll see all of those nodes below **except** for node `14` which is not reachable from any mutations."
   ]
  },
  {
   "cell_type": "code",
   "execution_count": null,
   "id": "fef31cef-0a18-48a3-a161-6244a25ccf48",
   "metadata": {},
   "outputs": [],
   "source": [
    "g = grg_from_trees(TREE_FILENAME)\n",
    "display(grg_to_cyto(g))"
   ]
  },
  {
   "cell_type": "markdown",
   "id": "aa0a73a4-42c9-46bd-9edb-514995de1703",
   "metadata": {},
   "source": [
    "### Save and simplify GRG\n",
    "\n",
    "We can now save the GRG file which will cause it to be simplified -- that is, any extraneous nodes/edges will be removed. The nodes will also be renumbered for better performance."
   ]
  },
  {
   "cell_type": "code",
   "execution_count": null,
   "id": "73d483e7-b257-4d63-a5ad-21ff3e803110",
   "metadata": {},
   "outputs": [],
   "source": [
    "from pygrgl import save_grg\n",
    "GRG_FILENAME = \"simple_example.grg\"\n",
    "save_grg(g, GRG_FILENAME)"
   ]
  },
  {
   "cell_type": "markdown",
   "id": "18e6a985-ca86-4e98-8865-de8a840683eb",
   "metadata": {},
   "source": [
    "# Reload and compute against the GRG\n",
    "\n",
    "We could have just done computations directly against the GRG that we constructed from the tree-sequence. However you can see below that the one we loaded is smaller. For really large datasets, this can make a big difference.\n",
    "\n",
    "There are two forms of GRG: mutable and immutable. Immutable GRGs are only available after deserializing a GRG from disk, and they offer some performance improvements (both CPU time and RAM usage). If you are doing computations, you almost certainly want an immutable GRG."
   ]
  },
  {
   "cell_type": "code",
   "execution_count": null,
   "id": "8e34a3b5-8206-4582-a486-c6b4a8b736b4",
   "metadata": {},
   "outputs": [],
   "source": [
    "from pygrgl import load_immutable_grg\n",
    "g = load_immutable_grg(GRG_FILENAME)\n",
    "display(grg_to_cyto(g))"
   ]
  },
  {
   "cell_type": "markdown",
   "id": "4dd623ac-9133-47ec-8707-746609a1eaa3",
   "metadata": {},
   "source": [
    "### Allele Frequency\n",
    "\n",
    "Below we caclulate the allele frequency. This calculation can be done very quickly from much simpler file formats than GRG, but it serves as a nice example."
   ]
  },
  {
   "cell_type": "code",
   "execution_count": null,
   "id": "cb5c2d44-11ed-4a11-af09-b07c9578ea58",
   "metadata": {},
   "outputs": [],
   "source": [
    "from pygrgl import get_dfs_order, TraversalDirection\n",
    "\n",
    "node_sample_counts = {}\n",
    "for node_id in get_dfs_order(g, TraversalDirection.DOWN, g.get_root_nodes()):\n",
    "    count = 1 if g.is_sample(node_id) else 0\n",
    "    for child_id in g.get_down_edges(node_id):\n",
    "        count += node_sample_counts[child_id]\n",
    "    node_sample_counts[node_id] = count\n",
    "\n",
    "for node_id, mutation_id in g.get_node_mutation_pairs():\n",
    "    mutation = g.get_mutation_by_id(mutation_id)\n",
    "    count = node_sample_counts[node_id]\n",
    "    print(f\"Mutation({mutation_id}): ({mutation.position}, {mutation.allele}) has sample count {count}\")"
   ]
  },
  {
   "cell_type": "markdown",
   "id": "c0482fd8-2d48-4e2a-92cf-1b8ad46d691f",
   "metadata": {},
   "source": [
    "### Even faster\n",
    "\n",
    "Above we traversed the entire graph, because we started at the list of roots (`g.get_root_nodes()`) and traversed down. The above traversal functions are very flexible, and you usually want to use them when you only want to traverse a _subset_ of the graph: for example, the DFS uses a stack to track your progress through the graph from a specific set of seed nodes (the roots, above).\n",
    "\n",
    "The immutable GRG has the property that NodeIDs are already renumbered for bottom-up traversal (like the DFS above), so whenever you are traversing the entire graph you can just iterate in NodeID order, like below."
   ]
  },
  {
   "cell_type": "code",
   "execution_count": null,
   "id": "477ba5d6-34d8-4d1f-9d4f-de18ea7e4da4",
   "metadata": {},
   "outputs": [],
   "source": [
    "node_sample_counts = {}\n",
    "for node_id in range(0, g.num_nodes):\n",
    "    count = 1 if g.is_sample(node_id) else 0\n",
    "    for child_id in g.get_down_edges(node_id):\n",
    "        count += node_sample_counts[child_id]\n",
    "    node_sample_counts[node_id] = count\n",
    "\n",
    "for node_id, mutation_id in g.get_node_mutation_pairs():\n",
    "    mutation = g.get_mutation_by_id(mutation_id)\n",
    "    count = node_sample_counts[node_id]\n",
    "    print(f\"Mutation({mutation_id}): ({mutation.position}, {mutation.allele}) has sample count {count}\")"
   ]
  },
  {
   "cell_type": "code",
   "execution_count": null,
   "id": "3fa0fc5e-435c-4ca6-a24a-b0a610b241a2",
   "metadata": {},
   "outputs": [],
   "source": []
  }
 ],
 "metadata": {
  "kernelspec": {
   "display_name": "Python 3 (ipykernel)",
   "language": "python",
   "name": "python3"
  },
  "language_info": {
   "codemirror_mode": {
    "name": "ipython",
    "version": 3
   },
   "file_extension": ".py",
   "mimetype": "text/x-python",
   "name": "python",
   "nbconvert_exporter": "python",
   "pygments_lexer": "ipython3",
   "version": "3.10.12"
  }
 },
 "nbformat": 4,
 "nbformat_minor": 5
}
